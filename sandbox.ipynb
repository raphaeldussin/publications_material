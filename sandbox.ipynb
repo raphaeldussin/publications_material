{
 "cells": [
  {
   "cell_type": "code",
   "execution_count": null,
   "metadata": {},
   "outputs": [],
   "source": [
    "# binder only, needs to set env var to PROJ_LIB for basemap to work\n",
    "import os\n",
    "os.environ['PROJ_LIB'] = '/srv/conda/envs/kernel/share/proj'"
   ]
  },
  {
   "cell_type": "code",
   "execution_count": null,
   "metadata": {},
   "outputs": [],
   "source": [
    "# display plots in notebook\n",
    "%matplotlib inline"
   ]
  },
  {
   "cell_type": "code",
   "execution_count": null,
   "metadata": {},
   "outputs": [],
   "source": [
    "# load packages\n",
    "import netCDF4 as nc\n",
    "import numpy as np\n",
    "import matplotlib.pylab as plt\n",
    "import matplotlib.cm as cm\n",
    "import matplotlib.colors as cl\n",
    "import matplotlib.ticker as ticker\n",
    "from mpl_toolkits.basemap import Basemap\n",
    "from scipy import ndimage as im\n",
    "from scipy import spatial\n",
    "import seaborn as sns\n",
    "import pandas as pd\n",
    "from terminaltables import AsciiTable"
   ]
  },
  {
   "cell_type": "code",
   "execution_count": null,
   "metadata": {},
   "outputs": [],
   "source": [
    "def setup_map(plt_topo=True,hide_grid=False):\n",
    "        ''' set the map, with etopo optionally '''\n",
    "        # background\n",
    "        bmap = Basemap(projection='cyl',llcrnrlat=18,urcrnrlat=51,\\\n",
    "                                         llcrnrlon=219,urcrnrlon=251,resolution='l')\n",
    "        parallels = np.arange(20.,60.,10.)\n",
    "        meridians = np.arange(220.,260.,10.)\n",
    "        if hide_grid:\n",
    "                bmap.drawparallels(parallels,labels=[True,False,False,True],linewidth=1,color=[1.,1.,1.])\n",
    "                bmap.drawmeridians(meridians,labels=[True,False,False,True],linewidth=1,color=[1.,1.,1.])\n",
    "        else:\n",
    "                bmap.drawparallels(parallels,labels=[True,False,False,True],linewidth=1,color=[0.6,0.6,0.6],fontsize=20)\n",
    "                bmap.drawmeridians(meridians,labels=[True,False,False,True],linewidth=1,color=[0.6,0.6,0.6],fontsize=20)\n",
    "        bmap.drawcoastlines()\n",
    "        if plt_topo:\n",
    "                paltopo = cm.binary\n",
    "                lon_topo = readnc(datadir + 'etopo_ccs.nc','topo_lon') + 360.\n",
    "                lat_topo = readnc(datadir + 'etopo_ccs.nc','topo_lat')\n",
    "                lon_topo2, lat_topo2 = np.meshgrid(lon_topo,lat_topo)\n",
    "                topo = readnc(datadir + 'etopo_ccs.nc','topo')\n",
    "                topomin=0 ; topomax=4000\n",
    "                topo = np.ma.masked_less_equal(topo,0.)\n",
    "                normtopo = cl.Normalize(vmin=topomin, vmax=topomax)\n",
    "                xtopo,ytopo = bmap(lon_topo2,lat_topo2)\n",
    "                T = bmap.contourf(xtopo,ytopo,topo,100,cmap=paltopo,norm=normtopo)\n",
    "        return bmap"
   ]
  },
  {
   "cell_type": "code",
   "execution_count": null,
   "metadata": {},
   "outputs": [],
   "source": [
    "# test map\n",
    "fig = plt.figure(figsize=[20.,10.])\n",
    "m = setup_map(plt_topo=False,hide_grid=False)"
   ]
  },
  {
   "cell_type": "code",
   "execution_count": null,
   "metadata": {},
   "outputs": [],
   "source": []
  }
 ],
 "metadata": {
  "kernelspec": {
   "display_name": "Python2 (pubs)",
   "language": "python",
   "name": "pubs"
  },
  "language_info": {
   "codemirror_mode": {
    "name": "ipython",
    "version": 3
   },
   "file_extension": ".py",
   "mimetype": "text/x-python",
   "name": "python",
   "nbconvert_exporter": "python",
   "pygments_lexer": "ipython3",
   "version": "3.6.7"
  }
 },
 "nbformat": 4,
 "nbformat_minor": 2
}
