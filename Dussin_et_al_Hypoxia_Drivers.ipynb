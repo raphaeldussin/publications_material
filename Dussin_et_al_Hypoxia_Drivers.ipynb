{
 "cells": [
  {
   "cell_type": "markdown",
   "metadata": {},
   "source": [
    "# Plots for Dussin et al., Hypoxia Drivers"
   ]
  },
  {
   "cell_type": "markdown",
   "metadata": {},
   "source": [
    "## Import python modules and define functions"
   ]
  },
  {
   "cell_type": "code",
   "execution_count": null,
   "metadata": {},
   "outputs": [],
   "source": [
    "# We need to manually set the path for PROJ_LIB\n",
    "# you may need to change this according to your environment\n",
    "import os\n",
    "# RD laptop\n",
    "os.environ['PROJ_LIB'] = '/opt/anaconda2/5.1.0/envs/pubs/share/proj/'\n",
    "# binder\n",
    "#os.environ['PROJ_LIB'] ="
   ]
  },
  {
   "cell_type": "code",
   "execution_count": null,
   "metadata": {},
   "outputs": [],
   "source": [
    "# all these packages are standard python modules\n",
    "import netCDF4 as nc\n",
    "import numpy as np\n",
    "import matplotlib.pylab as plt\n",
    "import matplotlib.cm as cm\n",
    "import matplotlib.colors as cl\n",
    "import matplotlib.ticker as ticker\n",
    "from mpl_toolkits.basemap import Basemap\n",
    "from scipy import ndimage as im\n",
    "from scipy import spatial\n",
    "import seaborn as sns\n",
    "import pandas as pd\n",
    "from terminaltables import AsciiTable"
   ]
  },
  {
   "cell_type": "code",
   "execution_count": null,
   "metadata": {},
   "outputs": [],
   "source": [
    "# check python version, needs to be 2.7\n",
    "import sys\n",
    "sys.version"
   ]
  },
  {
   "cell_type": "code",
   "execution_count": null,
   "metadata": {},
   "outputs": [],
   "source": [
    "from Dussin_et_al_Hypoxia_Drivers_utils import *"
   ]
  },
  {
   "cell_type": "markdown",
   "metadata": {},
   "source": [
    "## Data"
   ]
  },
  {
   "cell_type": "markdown",
   "metadata": {},
   "source": [
    "All data is included in the subdirectory"
   ]
  },
  {
   "cell_type": "code",
   "execution_count": null,
   "metadata": {},
   "outputs": [],
   "source": [
    "datadir = './data_Dussin_Hypoxia_drivers/'"
   ]
  },
  {
   "cell_type": "markdown",
   "metadata": {},
   "source": [
    "# Figure 2: Comparison of hypoxic boundary in REF and WOA13"
   ]
  },
  {
   "cell_type": "code",
   "execution_count": null,
   "metadata": {},
   "outputs": [],
   "source": [
    "def make_plot_hypoxic_bdry_map(datadir):\n",
    "    ''' make validation plot on hypoxic boundary '''\n",
    "    # get colormap from file\n",
    "    rt_colormaps = rt_getcolormaps()\n",
    "    pal = rt_colormaps['pastel1']\n",
    "    # colorbar options\n",
    "    cbarfmt = \"%01g\"\n",
    "    norm = cl.Normalize(vmin=-600, vmax=0)\n",
    "    contours=np.arange(-600.,-90.+10.,10.)\n",
    "    ticks=np.arange(-600,-100+100,100)\n",
    "    # layout options\n",
    "    sns.set(font_scale=1.4)\n",
    "    sns.set_style(\"darkgrid\", {\n",
    "    \"font.family\": \"serif\",\n",
    "    \"font.serif\": [\"Times\", \"Palatino\", \"serif\"],\n",
    "    'grid.linestyle': '-'\n",
    "    })\n",
    "\n",
    "    # read data\n",
    "    file_REF = 'CCS1-RD.NVOcobalt31S_hypoxic_bdry_annual_1996-2006.nc'\n",
    "    file_WOA = 'WOA13_hypoxic_bdry_annual_clim.nc'\n",
    "    lon = readnc(datadir + file_REF, 'lon') \n",
    "    lat = readnc(datadir + file_REF, 'lat')\n",
    "    hyp_bd_REF = readnc(datadir + file_REF, 'hypoxic_boundary')\n",
    "    hyp_bd_WOA = readnc(datadir + file_WOA, 'hypoxic_boundary')\n",
    "    # mask special values\n",
    "    hyp_bd_REF = np.ma.masked_values(hyp_bd_REF,-9999.)\n",
    "    hyp_bd_WOA = np.ma.masked_values(hyp_bd_WOA,-9999.)\n",
    "    \n",
    "    # start figure\n",
    "    fig = plt.figure(figsize=[24.,12.])\n",
    "    # model\n",
    "    ax  = fig.add_subplot(121)\n",
    "    m = setup_map_small(datadir, hide_grid=True)\n",
    "    C = m.contourf(lon, lat, hyp_bd_REF, contours, cmap=pal, norm=norm)\n",
    "    cbar = plt.colorbar(C, format=cbarfmt, shrink=0.7, ticks=ticks)\n",
    "    cbar.ax.set_yticklabels(ticks, fontsize=20)\n",
    "    # add central CCS band\n",
    "    m.plot(lon[220,:135],lat[220,:135],'k--')\n",
    "    m.plot(lon[380,:155],lat[380,:155],'k--')\n",
    "\n",
    "    # WOA\n",
    "    ax  = fig.add_subplot(122)\n",
    "    m = setup_map_small(datadir, hide_grid=True)\n",
    "    C = m.contourf(lon, lat, hyp_bd_WOA, contours, cmap=pal, norm=norm)\n",
    "    cbar = plt.colorbar(C, format=cbarfmt, shrink=0.7, ticks=ticks)\n",
    "    cbar.ax.set_yticklabels(ticks, fontsize=20)\n",
    "    # add central CCS bands\n",
    "    m.plot(lon[220,:135],lat[220,:135],'k--')\n",
    "    m.plot(lon[380,:155],lat[380,:155],'k--')\n",
    "\n",
    "    #plt.savefig(plotsdir + '/validation_hypoxic_bdry_REF.png',bbox_inches='tight')"
   ]
  },
  {
   "cell_type": "code",
   "execution_count": null,
   "metadata": {},
   "outputs": [],
   "source": [
    "make_plot_hypoxic_bdry_map(datadir)"
   ]
  },
  {
   "cell_type": "code",
   "execution_count": null,
   "metadata": {},
   "outputs": [],
   "source": []
  }
 ],
 "metadata": {
  "kernelspec": {
   "display_name": "Python2 (pubs)",
   "language": "python",
   "name": "pubs"
  },
  "language_info": {
   "codemirror_mode": {
    "name": "ipython",
    "version": 2
   },
   "file_extension": ".py",
   "mimetype": "text/x-python",
   "name": "python",
   "nbconvert_exporter": "python",
   "pygments_lexer": "ipython2",
   "version": "2.7.15"
  }
 },
 "nbformat": 4,
 "nbformat_minor": 2
}
